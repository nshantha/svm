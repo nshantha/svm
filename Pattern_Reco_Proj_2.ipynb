{
  "nbformat": 4,
  "nbformat_minor": 0,
  "metadata": {
    "colab": {
      "name": "Pattern_Reco_Proj_2.ipynb",
      "provenance": [],
      "collapsed_sections": []
    },
    "kernelspec": {
      "name": "python3",
      "display_name": "Python 3"
    },
    "accelerator": "GPU"
  },
  "cells": [
    {
      "cell_type": "code",
      "metadata": {
        "id": "aYtKLutOSfA6",
        "colab_type": "code",
        "colab": {}
      },
      "source": [
        "import tensorflow as tf\n",
        "import numpy as np\n",
        "from sklearn import svm, metrics\n",
        "from sklearn.metrics import confusion_matrix\n",
        "from matplotlib import pyplot as plt"
      ],
      "execution_count": 0,
      "outputs": []
    },
    {
      "cell_type": "code",
      "metadata": {
        "id": "8JXsCpuwSq5N",
        "colab_type": "code",
        "colab": {}
      },
      "source": [
        "# Read and process the dataset\n",
        "\n",
        "mnist = tf.keras.datasets.mnist\n",
        "(x_train, y_train), (x_test, y_test) = mnist.load_data()\n",
        "x_train, x_test = x_train / 255.0, x_test / 255.0\n",
        "\n"
      ],
      "execution_count": 0,
      "outputs": []
    },
    {
      "cell_type": "code",
      "metadata": {
        "id": "JxvzMEeCIvHQ",
        "colab_type": "code",
        "colab": {}
      },
      "source": [
        "x_train = x_train.reshape((-1, 28*28))\n",
        "x_test = x_test.reshape((-1, 28*28))\n"
      ],
      "execution_count": 0,
      "outputs": []
    },
    {
      "cell_type": "code",
      "metadata": {
        "id": "3hTM8sNOK78m",
        "colab_type": "code",
        "colab": {}
      },
      "source": [
        "def support_vector_machine(training_data, training_label, test_data, test_label):\n",
        "\n",
        "    print('Performing SVM')\n",
        "\n",
        "    # Classify as SVM\n",
        "    classifier = svm.SVC(C=1.0, kernel='linear', gamma='scale')\n",
        "\n",
        "    # Perform Training\n",
        "    classifier.fit(training_data, training_label)\n",
        "\n",
        "    # Predict\n",
        "    yhat = classifier.predict(test_data)\n",
        "\n",
        "    accuracy = metrics.accuracy_score(test_label, yhat)\n",
        "    confusion = confusion_matrix(test_label, yhat)\n",
        "    disp = metrics.plot_confusion_matrix(classifier, test_data, test_label)\n",
        "    print(\"Confusion matrix:\\n%s\" % disp.confusion_matrix)\n",
        "\n",
        "    return accuracy, confusion"
      ],
      "execution_count": 0,
      "outputs": []
    },
    {
      "cell_type": "code",
      "metadata": {
        "id": "Z6toPyH3PBoI",
        "colab_type": "code",
        "outputId": "71b82ab5-8d21-420b-df6f-a13fcc8b5962",
        "colab": {
          "base_uri": "https://localhost:8080/",
          "height": 521
        }
      },
      "source": [
        "\n",
        "# Read and process the dataset\n",
        "print('Loading MNIST data')\n",
        "mnist = tf.keras.datasets.mnist\n",
        "(x_train, y_train), (x_test, y_test) = mnist.load_data()\n",
        "x_train, x_test = x_train / 255.0, x_test / 255.0\n",
        "\n",
        "IMAGE_SIZE = x_train.shape[-1]\n",
        "\n",
        "x_train = x_train.reshape((-1, IMAGE_SIZE*IMAGE_SIZE))\n",
        "x_test = x_test.reshape((-1, IMAGE_SIZE*IMAGE_SIZE))\n",
        "\n",
        "accuracy, confusion = support_vector_machine(x_train, y_train, x_test, y_test)\n",
        "print('Accuracy: ' + str(accuracy*100) + '%')"
      ],
      "execution_count": 0,
      "outputs": [
        {
          "output_type": "stream",
          "text": [
            "Loading MNIST data\n",
            "Performing SVM\n",
            "Confusion matrix:\n",
            "[[ 957    0    4    1    1    6    9    1    0    1]\n",
            " [   0 1122    3    2    0    1    2    1    4    0]\n",
            " [   8    6  967   11    3    3    7    8   17    2]\n",
            " [   4    3   16  947    1   16    0    9   12    2]\n",
            " [   1    1   10    1  942    2    4    2    3   16]\n",
            " [  10    4    3   36    6  803   13    1   14    2]\n",
            " [   9    2   13    1    5   16  910    1    1    0]\n",
            " [   1    8   21   10    8    1    0  957    3   19]\n",
            " [   8    4    6   25    7   26    6    7  877    8]\n",
            " [   7    7    2   11   33    4    0   18    5  922]]\n",
            "Accuracy: 94.04%\n"
          ],
          "name": "stdout"
        },
        {
          "output_type": "display_data",
          "data": {
            "image/png": "[encoded data removed]",
            "text/plain": [
              "<Figure size 432x288 with 2 Axes>"
            ]
          },
          "metadata": {
            "tags": [],
            "needs_background": "light"
          }
        }
      ]
    },
    {
      "cell_type": "code",
      "metadata": {
        "id": "DY83kvSaLYpk",
        "colab_type": "code",
        "colab": {}
      },
      "source": [
        ""
      ],
      "execution_count": 0,
      "outputs": []
    },
    {
      "cell_type": "markdown",
      "metadata": {
        "id": "e6_e3RSvlu_S",
        "colab_type": "text"
      },
      "source": [
        "##Part-2"
      ]
    },
    {
      "cell_type": "markdown",
      "metadata": {
        "id": "3x71V0iYN_Rr",
        "colab_type": "text"
      },
      "source": [
        "###**Identify the Lagrange dual problem of the following primal problem**"
      ]
    },
    {
      "cell_type": "markdown",
      "metadata": {
        "id": "JFaHeUYmO1Dd",
        "colab_type": "text"
      },
      "source": [
        "We need to minimize \n",
        "\\begin{equation*}\n",
        "w^T.w + C \\sum_{i=1}^N \\xi_i\n",
        "\\end{equation*}\n",
        "which is subjected to\n",
        "\\begin{equation*}\n",
        "y_i. (w^T.x_i) \\geq 1 - \\xi_i \\  and \\  \\xi_i \\geq 0 \\ for \\ i = 1 , ... , N\n",
        "\\end{equation*}\n",
        "The margin can be written as \n",
        "\\begin{equation*}\n",
        "\\gamma = \\frac {1}{\\sqrt{w^T.w + C \\sum_{i=1}^N \\xi_i}}\n",
        "\\end{equation*}\n",
        "We know Lagrange function can be written as:\n",
        "\\begin{equation*}\n",
        "L = \\frac{1}{2}\\vec{w}^T.\\vec{w} +  C \\sum_{i=1}^N \\xi_i + \\sum_i \\alpha_i(1-y_i.w^t.x_i-\\xi_i)-\\sum_{i=1}^N \\beta_i \\xi_i\n",
        "\\end{equation*}\n",
        "\n",
        "\n",
        "*   Lagrange Multipliers $\\alpha$ and $\\beta$ as constraints to be $\\geq 0 $\n",
        "*   Inequaltiy constraints $(1-y_i.w^t.x_i-\\xi_i) \\leq 0$ and $\\xi_i \\geq 0 \\ for \\ i = 1 , ... , N$\n",
        "\n",
        "**Claim**:\n",
        "$\\max_{\\alpha,\\beta}\\min_{w,\\xi}(L) \\leq \\min_{w,\\xi} \\max_{\\alpha,\\beta}(L)$\n",
        "\n",
        "\\begin{equation*}\n",
        "L = \\frac{1}{2}\\vec{w}^T.\\vec{w} +  C \\sum_{i=1}^N \\xi_i + \\sum_i \\alpha_i(1-y_i.w^t.x_i-\\xi_i)-\\sum_{i=1}^N \\beta_i \\xi_i \\tag{1}\n",
        "\\end{equation*}\n",
        "Set the partial derivative of Lagrange function over $primal$ variables to $0$\n",
        "\\begin{equation*}\n",
        "\\frac {\\partial{L}}{\\partial w} = w - \\sum_i \\alpha_i y_i \\vec{x_i} = 0\n",
        "\\end{equation*}\n",
        "\\begin{equation*}\n",
        "w = \\sum_i\\alpha_i y_i \\vec{x_i} \\tag{2}\n",
        "\\end{equation*}\n",
        "\\begin{equation*}\n",
        "\\frac {\\partial{L}}{\\partial \\xi} = 0\n",
        "\\end{equation*}\n",
        "\\begin{equation*}\n",
        "C - \\alpha_i - \\beta_i = 0 \\Rightarrow C = \\alpha_i + \\beta_i \\tag{3}\n",
        "\\end{equation*}\n",
        "\n",
        "Sustituting obtained $w$ from $(2)$ and $(3)$ in $(1)$, we get\n",
        "\\begin{equation*}\n",
        "L = \\frac{1}{2}w^T \\sum_i \\alpha_i y_i \\vec{x_i} + \n",
        "(\\alpha_i + \\beta_i) \\sum_{i=1}^N \\xi_i + \n",
        "\\sum_i \\alpha_i (1-y_iw_T\\vec{x_i}-\\xi_i)-\\sum_{i=1}^N \\beta_i \\xi_i \\\\\n",
        "=\\frac{1}{2}w^T \\sum_i \\alpha_i y_i \\vec{x_i} + \n",
        "\\alpha_i\\sum_{i=1}^N \\xi_i + \\beta_i \\sum_{i=1}^N \\xi_i +\n",
        "\\sum_i \\alpha_i-w_T\\sum_i \\alpha_i y_i  \\vec{x_i}-\\sum_i \\alpha_i\\xi_i-\\sum_{i=1}^N \\beta_i \\xi_i\n",
        "\\end{equation*}\n",
        "\\begin{equation*}\n",
        "L = \\sum_i \\alpha_i - \\frac{1}{2} \\sum_{i,j} \\alpha_i \\alpha_j y_i y_j \\vec{x_i}^T x_j\n",
        "\\end{equation*}\n",
        "\n",
        "\n"
      ]
    },
    {
      "cell_type": "markdown",
      "metadata": {
        "id": "wasdjIAn5ltD",
        "colab_type": "text"
      },
      "source": [
        "**Point out what is the \"margin\" in both the primal formulation and the dual formulation**\\\n",
        "The **Primal** margin is:\n",
        "\\begin{equation*}\n",
        "\\gamma = \\frac {1}{\\sqrt{w^T.w + C \\sum_{i=1}^N \\xi_i}}\n",
        "\\end{equation*}\n",
        "and\\\n",
        "The **Dual** margin is:\n",
        "\\begin{equation*}\n",
        "\\gamma = \\frac {1}{\\sqrt{\\alpha_i \\alpha_j y_i y_j \\vec{x_i}^T x_j}}\n",
        "\\end{equation*}\n",
        "\n"
      ]
    },
    {
      "cell_type": "markdown",
      "metadata": {
        "id": "fmKq1kYc6VX0",
        "colab_type": "text"
      },
      "source": [
        "**What are the benefits of maximizing the margin?**\\\n",
        "In SVM, the points near the descision boundary signifies very uncertain classification decisions. Thus maximizing the margins seems good because uncertainity can decide the classifier either to the positive side of the plane or to the negative side. \\\n",
        "So having classifier with a Large margin makes low classification decisions which gives us a margin where slight variation will not cause a misclassification.\\\n",
        "Having Higher margin also helps us avoid overfitting by generalizing the model.\n"
      ]
    },
    {
      "cell_type": "markdown",
      "metadata": {
        "id": "L_taQfsU8mjp",
        "colab_type": "text"
      },
      "source": [
        "**Characterize the support vectors**\n",
        "\n",
        "For Vectors lying on the decision boundaries\n",
        "*   $\\pi - plane : W^TX + b \\leq -1$ for class $y$ in $-ve$ class\n",
        "*   $\\pi + plane : W^TX + b \\leq 1$ for class $y$ in $+ve$ class $(\\xi n=0)$\n",
        "\n",
        "For Vectors lying within the decision boundaries \n",
        "*   $0 \\leq \\xi n < 1$\n",
        "\n",
        "For Vectors lying outside decision boundaries outside the hyperplane\n",
        "*   $\\xi n \\geq 1$\n",
        "\n",
        "\n"
      ]
    },
    {
      "cell_type": "markdown",
      "metadata": {
        "id": "50PE_rAqir7Q",
        "colab_type": "text"
      },
      "source": [
        "**Point out the benefit of solving the dual problem instead of the primal problem**\n",
        "*   It is easier to optimize the in dual rather than the primal as the number of data points is lower than the number of dimensions\n",
        "*   Regularizing the \"sparse support vector\" associated with the dual hypothesis is sometimes more intuitive than regularizing the vector of regression coefficients\n",
        "*   One of the important advantage of using the dual form in SVM is that it allow us to apply kernels. Kernel search an optimal separating hyperplane in a higher dimensional space without increasing the computational complexity much\n",
        "\n"
      ]
    }
  ]
}